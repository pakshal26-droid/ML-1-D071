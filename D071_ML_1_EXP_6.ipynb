{
  "cells": [
    {
      "cell_type": "code",
      "execution_count": null,
      "metadata": {
        "id": "QMVoy9Z7a0N-"
      },
      "outputs": [],
      "source": [
        "from sklearn.ensemble import AdaBoostClassifier\n",
        "from sklearn import datasets\n",
        "from sklearn.model_selection import train_test_split\n",
        "from sklearn import metrics"
      ]
    },
    {
      "cell_type": "code",
      "execution_count": null,
      "metadata": {
        "id": "uxmikatsbNy4"
      },
      "outputs": [],
      "source": [
        "iris = datasets.load_iris()\n",
        "X = iris.data\n",
        "y = iris.target"
      ]
    },
    {
      "cell_type": "code",
      "execution_count": null,
      "metadata": {
        "id": "cX3SECrXbcLB"
      },
      "outputs": [],
      "source": [
        "X_train, X_test, y_train, y_test = train_test_split(X, y, test_size=0.3)"
      ]
    },
    {
      "cell_type": "code",
      "execution_count": null,
      "metadata": {
        "id": "K6TtHaVZbf83"
      },
      "outputs": [],
      "source": [
        "abc = AdaBoostClassifier(n_estimators=50, learning_rate=1)\n",
        "model = abc.fit(X_train, y_train)\n",
        "y_pred = model.predict(X_test)"
      ]
    },
    {
      "cell_type": "code",
      "execution_count": null,
      "metadata": {
        "colab": {
          "base_uri": "https://localhost:8080/"
        },
        "id": "Zq7Nb89_b0Lo",
        "outputId": "57181967-1310-4f4a-b94c-bc651cb88049"
      },
      "outputs": [
        {
          "output_type": "stream",
          "name": "stdout",
          "text": [
            "Accuracy:  0.9777777777777777\n"
          ]
        }
      ],
      "source": [
        "print(\"Accuracy: \",metrics.accuracy_score(y_test, y_pred))"
      ]
    },
    {
      "cell_type": "code",
      "execution_count": null,
      "metadata": {
        "colab": {
          "base_uri": "https://localhost:8080/"
        },
        "id": "qmtIjqI7cj3I",
        "outputId": "2ad0331c-5085-4520-f654-62e8e455e3a7"
      },
      "outputs": [
        {
          "output_type": "stream",
          "name": "stdout",
          "text": [
            "Training Accuracy:  0.9904761904761905\n"
          ]
        }
      ],
      "source": [
        "print(\"Training Accuracy: \", metrics.accuracy_score(y_train, model.predict(X_train)))"
      ]
    },
    {
      "cell_type": "code",
      "execution_count": null,
      "metadata": {
        "id": "kbwrb12AcvHI"
      },
      "outputs": [],
      "source": [
        "from sklearn.naive_bayes import GaussianNB\n",
        "\n",
        "NB = GaussianNB()\n",
        "abc = AdaBoostClassifier(estimator=NB, n_estimators=50, learning_rate=1)\n",
        "model = abc.fit(X_train, y_train)\n",
        "y_pred = model.predict(X_test)"
      ]
    },
    {
      "cell_type": "code",
      "execution_count": null,
      "metadata": {
        "colab": {
          "base_uri": "https://localhost:8080/"
        },
        "id": "0Gu9RqrGdyzw",
        "outputId": "56258d1f-c01d-44b8-c2d6-836d21690d0a"
      },
      "outputs": [
        {
          "output_type": "stream",
          "name": "stdout",
          "text": [
            "Accuracy:  0.9777777777777777\n"
          ]
        }
      ],
      "source": [
        "print(\"Accuracy: \",metrics.accuracy_score(y_test, y_pred))"
      ]
    },
    {
      "cell_type": "markdown",
      "metadata": {
        "id": "_MmpdcDEd23H"
      },
      "source": [
        "SYNTHETIC DATASETS"
      ]
    },
    {
      "cell_type": "code",
      "execution_count": null,
      "metadata": {
        "id": "rsIiHfAZd1fw"
      },
      "outputs": [],
      "source": [
        "from numpy import mean\n",
        "from numpy import std\n",
        "from sklearn.datasets import make_classification\n",
        "from sklearn.model_selection import cross_val_score\n",
        "from sklearn.model_selection import RepeatedStratifiedKFold\n",
        "from sklearn.ensemble import AdaBoostClassifier"
      ]
    },
    {
      "cell_type": "code",
      "execution_count": null,
      "metadata": {
        "id": "OvWOieZyeJJk"
      },
      "outputs": [],
      "source": [
        "X, y = make_classification(n_samples=1000, n_features=20, n_informative=15, n_redundant=5, random_state=6)"
      ]
    },
    {
      "cell_type": "code",
      "execution_count": null,
      "metadata": {
        "id": "ggaxm5ASeP8q"
      },
      "outputs": [],
      "source": [
        "model = AdaBoostClassifier()"
      ]
    },
    {
      "cell_type": "code",
      "execution_count": null,
      "metadata": {
        "id": "MDdNYX3xeWkD"
      },
      "outputs": [],
      "source": [
        "cv = RepeatedStratifiedKFold(n_splits=10, n_repeats=3, random_state=1)\n",
        "n_scores = cross_val_score(model, X, y, scoring='accuracy', cv=cv, n_jobs=-1, error_score='raise')"
      ]
    },
    {
      "cell_type": "code",
      "execution_count": null,
      "metadata": {
        "colab": {
          "base_uri": "https://localhost:8080/"
        },
        "id": "IpF2YtoHeq4J",
        "outputId": "e1ec311f-a6e8-4a42-9594-bd1ae745650b"
      },
      "outputs": [
        {
          "output_type": "stream",
          "name": "stdout",
          "text": [
            "Accuracy: 0.798 (0.034)\n"
          ]
        }
      ],
      "source": [
        "print('Accuracy: %.3f (%.3f)' % (mean(n_scores), std(n_scores)))"
      ]
    },
    {
      "cell_type": "code",
      "execution_count": null,
      "metadata": {
        "colab": {
          "base_uri": "https://localhost:8080/"
        },
        "id": "esZn5-o1fW1F",
        "outputId": "859cc87f-4c02-4b60-c083-9691d8719c2b"
      },
      "outputs": [
        {
          "output_type": "stream",
          "name": "stdout",
          "text": [
            "[[ -3.47224758   1.95378146   0.04875169  -0.91592588  -3.54022468\n",
            "    1.96405547  -7.72564954  -2.64787168  -1.81726906  -1.67104974\n",
            "    2.33762043  -4.30273117   0.4839841   -1.28253034 -10.6704077\n",
            "   -0.7641103   -3.58493721   2.07283886   0.08385173   0.91461126]]\n"
          ]
        }
      ],
      "source": [
        "print(X[:1])"
      ]
    },
    {
      "cell_type": "code",
      "execution_count": null,
      "metadata": {
        "colab": {
          "base_uri": "https://localhost:8080/"
        },
        "id": "ijm7kic1gAxV",
        "outputId": "5ab4dee0-8053-481b-cc7e-93884621da12"
      },
      "outputs": [
        {
          "output_type": "stream",
          "name": "stdout",
          "text": [
            "[array([0, 1, 1, 1, 0, 1, 0, 1, 0, 1, 1, 0, 1, 1, 1, 0, 0, 0, 0, 0, 0, 1,\n",
            "       0, 0, 1, 0, 0, 1, 1, 1, 0, 0, 0, 1, 0, 0, 1, 0, 0, 1, 1, 1, 1, 0,\n",
            "       1, 1, 0, 0, 1, 1, 1, 1, 0, 0, 0, 0, 0, 0, 0, 0, 0, 0, 0, 1, 0, 0,\n",
            "       0, 0, 1, 1, 0, 0, 1, 1, 0, 0, 0, 1, 0, 0, 0, 1, 0, 1, 1, 1, 1, 1,\n",
            "       1, 1, 0, 0, 0, 0, 1, 1, 0, 1, 1, 1, 0, 1, 1, 0, 1, 1, 1, 0, 0, 1,\n",
            "       0, 1, 1, 0, 0, 0, 1, 0, 0, 1, 0, 1, 1, 0, 1, 0, 1, 1, 1, 1, 0, 0,\n",
            "       0, 0, 0, 0, 0, 1, 0, 1, 0, 1, 0, 1, 1, 1, 1, 0, 0, 1, 1, 0, 1, 1,\n",
            "       1, 1, 1, 1, 1, 1, 1, 1, 1, 0, 0, 0, 0, 0, 1, 1, 1, 0, 1, 0, 0, 0,\n",
            "       0, 1, 1, 1, 1, 0, 1, 0, 0, 0, 1, 0, 1, 0, 1, 1, 1, 0, 1, 0, 0, 1,\n",
            "       0, 1, 0, 0, 0, 0, 1, 1, 0, 1, 1, 1, 1, 0, 1, 1, 0, 1, 0, 1, 1, 1,\n",
            "       1, 1, 1, 1, 1, 1, 0, 0, 0, 1, 0, 1, 0, 1, 0, 1, 0, 0, 0, 1, 1, 1,\n",
            "       0, 1, 0, 1, 1, 0, 0, 0, 1, 1, 0, 1, 0, 0, 0, 1, 0, 0, 0, 0, 0, 1,\n",
            "       1, 1, 0, 1, 0, 1, 1, 0, 0, 0, 0, 0, 0, 1, 0, 0, 0, 1, 0, 0, 0, 1,\n",
            "       0, 0, 0, 0, 1, 0, 0, 1, 1, 0, 0, 0, 0, 0, 0, 0, 1, 0, 0, 0, 0, 1,\n",
            "       1, 0, 1, 1, 1, 0, 0, 1, 1, 1, 1, 0, 0, 0, 1, 0, 1, 1, 1, 0, 1, 0,\n",
            "       1, 1, 0, 1, 0, 1, 1, 1, 0, 0, 1, 0, 0, 1, 1, 1, 1, 1, 0, 1, 0, 1,\n",
            "       0, 0, 0, 1, 0, 0, 0, 0, 0, 0, 0, 1, 0, 1, 1, 1, 1, 1, 0, 1, 0, 1,\n",
            "       0, 1, 0, 1, 1, 0, 0, 0, 0, 0, 0, 0, 1, 1, 0, 0, 0, 1, 0, 0, 0, 1,\n",
            "       1, 1, 1, 1, 0, 1, 0, 0, 0, 1, 0, 0, 0, 0, 0, 1, 1, 0, 0, 1, 1, 0,\n",
            "       1, 1, 0, 0, 0, 1, 0, 0, 1, 1, 1, 1, 0, 1, 0, 0, 1, 1, 1, 1, 0, 0,\n",
            "       1, 1, 0, 0, 0, 1, 1, 1, 1, 0, 1, 0, 1, 0, 0, 0, 0, 1, 1, 1, 0, 0,\n",
            "       1, 1, 0, 0, 1, 1, 1, 0, 1, 0, 1, 0, 0, 0, 0, 1, 0, 0, 0, 1, 1, 1,\n",
            "       1, 0, 0, 0, 1, 0, 1, 0, 0, 1, 1, 0, 0, 0, 1, 1, 1, 0, 0, 0, 1, 1,\n",
            "       1, 1, 1, 1, 0, 0, 0, 1, 0, 1, 0, 0, 1, 1, 1, 1, 1, 0, 1, 1, 1, 0,\n",
            "       1, 0, 1, 1, 0, 1, 1, 1, 0, 0, 0, 0, 0, 0, 1, 0, 0, 1, 0, 1, 1, 0,\n",
            "       1, 1, 1, 0, 0, 1, 0, 1, 1, 0, 1, 1, 1, 0, 0, 0, 0, 1, 1, 1, 0, 0,\n",
            "       1, 0, 0, 1, 1, 0, 0, 1, 1, 0, 0, 1, 1, 0, 0, 0, 1, 0, 1, 1, 1, 1,\n",
            "       0, 1, 1, 0, 1, 0, 0, 1, 1, 0, 0, 0, 0, 0, 0, 0, 0, 0, 0, 1, 1, 0,\n",
            "       1, 1, 1, 0, 0, 0, 1, 1, 1, 1, 0, 0, 0, 0, 1, 1, 0, 0, 1, 1, 0, 1,\n",
            "       0, 1, 0, 1, 0, 0, 0, 0, 1, 0, 1, 1, 1, 1, 0, 1, 1, 1, 1, 0, 0, 0,\n",
            "       0, 1, 1, 1, 1, 0, 1, 0, 0, 0, 0, 0, 1, 1, 1, 1, 1, 0, 1, 1, 1, 1,\n",
            "       0, 1, 0, 1, 0, 1, 0, 1, 0, 0, 0, 1, 1, 1, 1, 1, 0, 0, 0, 0, 0, 0,\n",
            "       0, 1, 1, 1, 0, 0, 1, 0, 1, 0, 0, 1, 0, 1, 1, 1, 0, 0, 1, 0, 0, 0,\n",
            "       1, 1, 1, 0, 0, 1, 1, 1, 0, 1, 1, 1, 1, 0, 0, 0, 0, 1, 1, 1, 1, 1,\n",
            "       0, 1, 1, 1, 0, 1, 0, 1, 0, 0, 1, 1, 0, 1, 0, 0, 1, 1, 0, 1, 0, 0,\n",
            "       0, 1, 0, 0, 0, 1, 1, 1, 0, 0, 1, 0, 1, 1, 0, 0, 0, 1, 0, 0, 0, 0,\n",
            "       0, 1, 0, 0, 1, 0, 0, 0, 0, 0, 0, 1, 0, 1, 0, 1, 1, 1, 0, 0, 1, 0,\n",
            "       0, 0, 1, 0, 1, 1, 1, 1, 0, 1, 0, 1, 0, 0, 0, 1, 1, 1, 1, 1, 0, 0,\n",
            "       0, 1, 0, 1, 0, 0, 1, 1, 0, 1, 1, 0, 1, 1, 0, 0, 1, 0, 0, 0, 0, 0,\n",
            "       1, 1, 1, 0, 0, 1, 1, 1, 0, 1, 0, 1, 1, 0, 1, 0, 1, 1, 1, 1, 1, 1,\n",
            "       1, 1, 1, 1, 1, 0, 0, 0, 0, 0, 0, 1, 0, 0, 0, 1, 1, 0, 1, 1, 0, 1,\n",
            "       0, 1, 0, 0, 0, 1, 1, 0, 0, 1, 1, 1, 1, 0, 0, 0, 0, 1, 1, 0, 1, 0,\n",
            "       1, 1, 1, 0, 1, 0, 1, 1, 1, 1, 0, 0, 1, 0, 1, 1, 0, 1, 1, 0, 1, 1,\n",
            "       0, 1, 0, 1, 1, 1, 1, 1, 1, 1, 0, 0, 0, 1, 1, 0, 1, 1, 1, 0, 1, 1,\n",
            "       0, 0, 0, 0, 1, 0, 0, 1, 0, 0, 1, 1, 0, 1, 0, 1, 1, 0, 0, 0, 0, 1,\n",
            "       1, 1, 1, 1, 1, 0, 1, 1, 0, 1])]\n"
          ]
        }
      ],
      "source": [
        "print([y])"
      ]
    },
    {
      "cell_type": "code",
      "execution_count": null,
      "metadata": {
        "colab": {
          "base_uri": "https://localhost:8080/"
        },
        "id": "EkY3h-FdgNw0",
        "outputId": "d719873f-1cd6-4e28-9376-9624994f5c70"
      },
      "outputs": [
        {
          "output_type": "stream",
          "name": "stdout",
          "text": [
            "Prediction for the new data point: [0]\n"
          ]
        }
      ],
      "source": [
        "from sklearn.datasets import make_classification\n",
        "from sklearn.ensemble import AdaBoostClassifier\n",
        "from sklearn.model_selection import RepeatedStratifiedKFold, cross_val_score\n",
        "import numpy as np\n",
        "\n",
        "X, y = make_classification(n_samples=1000, n_features=20, n_informative=15, n_redundant=5, random_state=6)\n",
        "model = AdaBoostClassifier()\n",
        "cv = RepeatedStratifiedKFold(n_splits=10, n_repeats=3, random_state=1)\n",
        "model.fit(X, y)\n",
        "new_data_point = np.array([[-3.47224758, 1.95378146, 0.04875169, -0.91592588, -3.54022468,\n",
        "                            1.96405547, -7.72564954, -2.64787168, -1.81726906, -1.67104974,\n",
        "                            2.33762043, -4.30273117, 0.4839841, -1.28253034, -10.6704077,\n",
        "                            -0.7641103, -3.58493721, 2.07283886, 0.08385173, 0.91461126]])\n",
        "\n",
        "prediction = model.predict(new_data_point)\n",
        "print(f\"Prediction for the new data point: {prediction}\")"
      ]
    },
    {
      "cell_type": "markdown",
      "metadata": {
        "id": "hSl7Qwh2hh79"
      },
      "source": [
        "HYPERPARAMETER"
      ]
    },
    {
      "cell_type": "code",
      "execution_count": null,
      "metadata": {
        "id": "sHkLN50wj-eh"
      },
      "outputs": [],
      "source": [
        "from sklearn.datasets import make_classification\n",
        "from sklearn.tree import DecisionTreeClassifier\n",
        "from sklearn.ensemble import AdaBoostClassifier\n",
        "from sklearn.model_selection import cross_val_score, RepeatedStratifiedKFold\n",
        "import matplotlib.pyplot as plt\n",
        "\n",
        "def get_dataset():\n",
        "    X, y = make_classification(n_samples=1000, n_features=20, n_informative=15,\n",
        "                               n_redundant=5, random_state=1)\n",
        "    return X, y\n",
        "def get_models():\n",
        "    models = dict()\n",
        "    for i in range(1, 11):\n",
        "        models[str(i)] = AdaBoostClassifier(estimator=DecisionTreeClassifier(max_depth=i))\n",
        "    return models\n",
        "\n",
        "def evaluate_model(model, X, Y):\n",
        "    cv = RepeatedStratifiedKFold(n_splits=10, n_repeats=3, random_state=1)\n",
        "    scores = cross_val_score(model, X, Y, scoring='accuracy', cv=cv, n_jobs=-1)\n",
        "    return scores"
      ]
    },
    {
      "cell_type": "code",
      "execution_count": null,
      "metadata": {
        "colab": {
          "base_uri": "https://localhost:8080/"
        },
        "id": "4vQKDXdthRAv",
        "outputId": "f9dc8ff4-307c-4cbd-f7d9-806d187c2aa6"
      },
      "outputs": [
        {
          "output_type": "stream",
          "name": "stdout",
          "text": [
            "> 1: 0.859 (0.036)\n",
            "> 2: 0.898 (0.026)\n",
            "> 3: 0.925 (0.032)\n",
            "> 4: 0.930 (0.025)\n",
            "> 5: 0.948 (0.023)\n",
            "> 6: 0.945 (0.023)\n",
            "> 7: 0.949 (0.020)\n",
            "> 8: 0.946 (0.024)\n",
            "> 9: 0.949 (0.022)\n",
            "> 10: 0.941 (0.029)\n"
          ]
        }
      ],
      "source": [
        "X, y = get_dataset()\n",
        "models = get_models()\n",
        "results, names = list(), list()\n",
        "for name, model in models.items():\n",
        "    scores = evaluate_model(model, X, y)\n",
        "    results.append(scores)\n",
        "    names.append(name)\n",
        "    print(f'> {name}: {scores.mean():.3f} ({scores.std():.3f})')"
      ]
    },
    {
      "cell_type": "code",
      "execution_count": null,
      "metadata": {
        "id": "cPx08wH9lM8J",
        "colab": {
          "base_uri": "https://localhost:8080/",
          "height": 507
        },
        "outputId": "27dea1b0-1c3a-429f-f467-a775aa0bd389"
      },
      "outputs": [
        {
          "output_type": "stream",
          "name": "stderr",
          "text": [
            "<ipython-input-19-ab912e3045df>:1: MatplotlibDeprecationWarning: The 'labels' parameter of boxplot() has been renamed 'tick_labels' since Matplotlib 3.9; support for the old name will be dropped in 3.11.\n",
            "  plt.boxplot(results, labels=names, showmeans=True)\n"
          ]
        },
        {
          "output_type": "display_data",
          "data": {
            "text/plain": [
              "<Figure size 640x480 with 1 Axes>"
            ],
            "image/png": "[encoded data removed]"
          },
          "metadata": {}
        }
      ],
      "source": [
        "plt.boxplot(results, labels=names, showmeans=True)\n",
        "plt.title('AdaBoost with Varying max_depth of DecisionTree')\n",
        "plt.xlabel('max_depth')\n",
        "plt.ylabel('Accuracy')\n",
        "plt.grid(True)\n",
        "plt.show()"
      ]
    },
    {
      "cell_type": "code",
      "execution_count": null,
      "metadata": {
        "id": "kCDmS64gkDcJ",
        "colab": {
          "base_uri": "https://localhost:8080/"
        },
        "outputId": "d5b96eb3-10f3-45ed-a243-9ac34188c5a0"
      },
      "outputs": [
        {
          "output_type": "stream",
          "name": "stdout",
          "text": [
            ">0.100 0.797 (0.040)\n",
            ">0.200 0.816 (0.040)\n",
            ">0.300 0.828 (0.037)\n",
            ">0.400 0.832 (0.038)\n",
            ">0.500 0.839 (0.037)\n",
            ">0.600 0.845 (0.036)\n",
            ">0.700 0.849 (0.038)\n",
            ">0.800 0.852 (0.037)\n",
            ">0.900 0.856 (0.034)\n",
            ">1.000 0.859 (0.036)\n",
            ">1.100 0.849 (0.036)\n",
            ">1.200 0.852 (0.039)\n",
            ">1.300 0.846 (0.036)\n",
            ">1.400 0.855 (0.025)\n",
            ">1.500 0.841 (0.037)\n",
            ">1.600 0.848 (0.033)\n",
            ">1.700 0.836 (0.035)\n",
            ">1.800 0.826 (0.037)\n",
            ">1.900 0.799 (0.046)\n",
            ">2.000 0.646 (0.084)\n"
          ]
        }
      ],
      "source": [
        "import numpy as np\n",
        "from matplotlib import pyplot\n",
        "def get_models_1():\n",
        "  models=dict()\n",
        "  for i in np.arange(0.1,2.1,0.1):\n",
        "    key='%.3f'%i\n",
        "    models[key]=AdaBoostClassifier(learning_rate=i)\n",
        "  return models\n",
        "X,y=get_dataset()\n",
        "models=get_models_1()\n",
        "results,names=list(),list()\n",
        "for name,models in models.items():\n",
        "  scores=evaluate_model(models,X,y)\n",
        "  results.append(scores)\n",
        "  names.append(name)\n",
        "  print('>%s %.3f (%.3f)'%(name,np.mean(scores),np.std(scores)))"
      ]
    },
    {
      "cell_type": "code",
      "source": [
        "pyplot.boxplot(results,labels=names,showmeans=True)\n",
        "pyplot.xticks(rotation=90)\n",
        "pyplot.grid(True)\n",
        "pyplot.show()"
      ],
      "metadata": {
        "colab": {
          "base_uri": "https://localhost:8080/",
          "height": 490
        },
        "id": "i2hW5nTsswfG",
        "outputId": "1c167d83-8bed-41d2-e197-992bf77726f5"
      },
      "execution_count": null,
      "outputs": [
        {
          "output_type": "stream",
          "name": "stderr",
          "text": [
            "<ipython-input-6-1620667d881b>:1: MatplotlibDeprecationWarning: The 'labels' parameter of boxplot() has been renamed 'tick_labels' since Matplotlib 3.9; support for the old name will be dropped in 3.11.\n",
            "  pyplot.boxplot(results,labels=names,showmeans=True)\n"
          ]
        },
        {
          "output_type": "display_data",
          "data": {
            "text/plain": [
              "<Figure size 640x480 with 1 Axes>"
            ],
            "image/png": "[encoded data removed]"
          },
          "metadata": {}
        }
      ]
    },
    {
      "cell_type": "markdown",
      "metadata": {
        "id": "33cjgeoUlcqo"
      },
      "source": [
        "GridSearch Cv"
      ]
    },
    {
      "cell_type": "code",
      "execution_count": null,
      "metadata": {
        "id": "EBF3WnPklX5Q",
        "colab": {
          "base_uri": "https://localhost:8080/"
        },
        "outputId": "1ff96035-6155-4b77-ddc6-250724ee99df"
      },
      "outputs": [
        {
          "output_type": "stream",
          "name": "stdout",
          "text": [
            "Best: 0.811667 using {'learning_rate': 1.0, 'n_estimators': 500}\n",
            "0.646333 (0.036376) with: {'learning_rate': 0.0001, 'n_estimators': 10}\n",
            "0.646333 (0.036376) with: {'learning_rate': 0.0001, 'n_estimators': 50}\n",
            "0.646333 (0.036376) with: {'learning_rate': 0.0001, 'n_estimators': 100}\n",
            "0.646667 (0.036545) with: {'learning_rate': 0.0001, 'n_estimators': 500}\n",
            "0.646333 (0.036376) with: {'learning_rate': 0.001, 'n_estimators': 10}\n",
            "0.646333 (0.036376) with: {'learning_rate': 0.001, 'n_estimators': 50}\n",
            "0.645667 (0.036119) with: {'learning_rate': 0.001, 'n_estimators': 100}\n",
            "0.651333 (0.039811) with: {'learning_rate': 0.001, 'n_estimators': 500}\n",
            "0.644667 (0.036399) with: {'learning_rate': 0.01, 'n_estimators': 10}\n",
            "0.651333 (0.039811) with: {'learning_rate': 0.01, 'n_estimators': 50}\n",
            "0.683333 (0.053125) with: {'learning_rate': 0.01, 'n_estimators': 100}\n",
            "0.751667 (0.049267) with: {'learning_rate': 0.01, 'n_estimators': 500}\n",
            "0.709667 (0.054190) with: {'learning_rate': 0.1, 'n_estimators': 10}\n",
            "0.753000 (0.050672) with: {'learning_rate': 0.1, 'n_estimators': 50}\n",
            "0.764667 (0.047591) with: {'learning_rate': 0.1, 'n_estimators': 100}\n",
            "0.788333 (0.041399) with: {'learning_rate': 0.1, 'n_estimators': 500}\n",
            "0.759000 (0.037269) with: {'learning_rate': 1.0, 'n_estimators': 10}\n",
            "0.798333 (0.033871) with: {'learning_rate': 1.0, 'n_estimators': 50}\n",
            "0.801000 (0.036364) with: {'learning_rate': 1.0, 'n_estimators': 100}\n",
            "0.811667 (0.036614) with: {'learning_rate': 1.0, 'n_estimators': 500}\n"
          ]
        }
      ],
      "source": [
        "from sklearn.model_selection import GridSearchCV\n",
        "X, y = make_classification(n_samples=1000, n_features=20, n_informative=15, n_redundant=5, random_state=6)\n",
        "\n",
        "model = AdaBoostClassifier()\n",
        "grid = dict()\n",
        "grid['n_estimators'] = [10,50,100,500]\n",
        "grid['learning_rate'] = [0.0001, 0.001, 0.01, 0.1, 1.0]\n",
        "cv = RepeatedStratifiedKFold(n_splits=10, n_repeats=3, random_state=1)\n",
        "\n",
        "grid_search = GridSearchCV(estimator=model, param_grid=grid, n_jobs=-1, cv=cv, scoring='accuracy')\n",
        "grid_result = grid_search.fit(X, y)\n",
        "\n",
        "print(\"Best: %f using %s\" % (grid_result.best_score_, grid_result.best_params_))\n",
        "means = grid_result.cv_results_['mean_test_score']\n",
        "stds = grid_result.cv_results_['std_test_score']\n",
        "params = grid_result.cv_results_['params']\n",
        "\n",
        "for mean, stdev, param in zip(means, stds, params):\n",
        "    print(\"%f (%f) with: %r\" % (mean, stdev, param))"
      ]
    },
    {
      "cell_type": "code",
      "source": [
        "import numpy as np\n",
        "from sklearn.datasets import make_regression\n",
        "from sklearn.linear_model import LinearRegression\n",
        "from sklearn.ensemble import AdaBoostRegressor\n",
        "from sklearn.linear_model import LogisticRegression\n",
        "from sklearn.model_selection import train_test_split, GridSearchCV\n",
        "from sklearn.metrics import mean_squared_error\n",
        "from sklearn.preprocessing import StandardScaler\n",
        "\n",
        "X, y = make_regression(n_samples=1000, n_features=10, noise=0.1, random_state=42)"
      ],
      "metadata": {
        "id": "9BRqSJTtoXFk"
      },
      "execution_count": null,
      "outputs": []
    },
    {
      "cell_type": "code",
      "source": [
        "print(X[:1])"
      ],
      "metadata": {
        "colab": {
          "base_uri": "https://localhost:8080/"
        },
        "id": "iPvdqf9A7fI8",
        "outputId": "24b45602-888f-498f-bd54-5effd9b2e234"
      },
      "execution_count": null,
      "outputs": [
        {
          "output_type": "stream",
          "name": "stdout",
          "text": [
            "[[ 1.57587581  0.89186302 -0.72677414 -0.04779925 -0.65703524 -1.11329483\n",
            "  -0.87761736  0.99455824 -0.29969606 -0.76176037]]\n"
          ]
        }
      ]
    },
    {
      "cell_type": "code",
      "source": [
        "print(y[:1])"
      ],
      "metadata": {
        "colab": {
          "base_uri": "https://localhost:8080/"
        },
        "id": "zUmKMOW97h6t",
        "outputId": "f0b3632c-e5ee-4c29-c898-fb363c9960fc"
      },
      "execution_count": null,
      "outputs": [
        {
          "output_type": "stream",
          "name": "stdout",
          "text": [
            "[-62.95565714]\n"
          ]
        }
      ]
    },
    {
      "cell_type": "code",
      "source": [
        "y_class = (y > np.median(y)).astype(int)"
      ],
      "metadata": {
        "id": "w-xjvFt774XW"
      },
      "execution_count": null,
      "outputs": []
    },
    {
      "cell_type": "code",
      "source": [
        "X_train, X_test, y_train, y_test = train_test_split(X, y, test_size=0.3, random_state=42)"
      ],
      "metadata": {
        "id": "s0fbVTJM4R06"
      },
      "execution_count": null,
      "outputs": []
    },
    {
      "cell_type": "code",
      "source": [
        "scaler = StandardScaler()\n",
        "X_train_scaled = scaler.fit_transform(X_train)\n",
        "X_test_scaled = scaler.transform(X_test)"
      ],
      "metadata": {
        "id": "yfdX8Nvl78Jm"
      },
      "execution_count": null,
      "outputs": []
    },
    {
      "cell_type": "code",
      "source": [
        "base_estimator = LinearRegression()"
      ],
      "metadata": {
        "id": "bkXn3sDF4tjq"
      },
      "execution_count": null,
      "outputs": []
    },
    {
      "cell_type": "code",
      "source": [
        "ada_boost = AdaBoostRegressor(estimator=base_estimator, random_state=42)"
      ],
      "metadata": {
        "id": "bMJ3nTcd4VQX"
      },
      "execution_count": null,
      "outputs": []
    },
    {
      "cell_type": "code",
      "source": [
        "cv = RepeatedKFold(n_splits=10, n_repeats=3, random_state=1)\n",
        "scores = cross_val_score(ada_boost, X, y, scoring='neg_mean_squared_error', cv=cv, n_jobs=-1, error_score='raise')\n",
        "print(scores)\n",
        "n_score = -scores"
      ],
      "metadata": {
        "colab": {
          "base_uri": "https://localhost:8080/"
        },
        "id": "vKpAuWv36C83",
        "outputId": "61f22745-06e1-4800-af3f-2af51f725051"
      },
      "execution_count": null,
      "outputs": [
        {
          "output_type": "stream",
          "name": "stdout",
          "text": [
            "[-0.00681727 -0.00953634 -0.0111952  -0.01061704 -0.00993549 -0.01093926\n",
            " -0.0095724  -0.01006113 -0.00746921 -0.00985569 -0.0114766  -0.00955537\n",
            " -0.00948232 -0.00993448 -0.00686639 -0.01008715 -0.01055648 -0.01018951\n",
            " -0.00898879 -0.00880749 -0.01054526 -0.00661909 -0.0092692  -0.0088404\n",
            " -0.01011808 -0.00961943 -0.0094615  -0.0110116  -0.00959896 -0.01057474]\n"
          ]
        }
      ]
    },
    {
      "cell_type": "code",
      "source": [
        "print('Accuracy: %.3f (%.3f)' % (np.mean(n_scores), np.std(n_scores)))"
      ],
      "metadata": {
        "colab": {
          "base_uri": "https://localhost:8080/"
        },
        "id": "ab3-l4g38_ef",
        "outputId": "7f2406e5-d890-42d9-b81b-a506cd1bfa02"
      },
      "execution_count": null,
      "outputs": [
        {
          "output_type": "stream",
          "name": "stdout",
          "text": [
            "Accuracy: 0.798 (0.034)\n"
          ]
        }
      ]
    },
    {
      "cell_type": "code",
      "source": [
        "from sklearn.model_selection import GridSearchCV\n",
        "\n",
        "param_grid = {\n",
        "    'n_estimators': [50, 100, 200],\n",
        "    'learning_rate': [0.01, 0.1, 0.5, 1.0],\n",
        "    'loss': ['linear', 'square', 'exponential']\n",
        "}\n",
        "\n",
        "grid_search = GridSearchCV(\n",
        "    estimator=ada_boost,\n",
        "    param_grid=param_grid,\n",
        "    cv=cv,\n",
        "    n_jobs=-1,\n",
        "    scoring='neg_mean_squared_error',\n",
        "    verbose=1\n",
        ")\n",
        "\n",
        "grid_result = grid_search.fit(X_train_scaled, y_train)\n",
        "\n",
        "print(\"Best MSE (negative): %.3f using %s\" % (grid_result.best_score_, grid_result.best_params_))\n",
        "\n",
        "means = grid_result.cv_results_['mean_test_score']\n",
        "stds = grid_result.cv_results_['std_test_score']\n",
        "params = grid_result.cv_results_['params']\n",
        "\n",
        "for mean, std, param in zip(means, stds, params):\n",
        "    print(\"MSE (neg): %.3f (±%.3f) with: %r\" % (mean, std, param))\n"
      ],
      "metadata": {
        "colab": {
          "base_uri": "https://localhost:8080/"
        },
        "id": "xmOcRLFr9oUz",
        "outputId": "f2891d34-d755-455e-a131-1b5bbf608aa5"
      },
      "execution_count": null,
      "outputs": [
        {
          "output_type": "stream",
          "name": "stdout",
          "text": [
            "Fitting 30 folds for each of 36 candidates, totalling 1080 fits\n",
            "Best MSE (negative): -0.010 using {'learning_rate': 0.01, 'loss': 'linear', 'n_estimators': 200}\n",
            "MSE (neg): -0.010 (±0.002) with: {'learning_rate': 0.01, 'loss': 'linear', 'n_estimators': 50}\n",
            "MSE (neg): -0.010 (±0.002) with: {'learning_rate': 0.01, 'loss': 'linear', 'n_estimators': 100}\n",
            "MSE (neg): -0.010 (±0.002) with: {'learning_rate': 0.01, 'loss': 'linear', 'n_estimators': 200}\n",
            "MSE (neg): -0.010 (±0.002) with: {'learning_rate': 0.01, 'loss': 'square', 'n_estimators': 50}\n",
            "MSE (neg): -0.010 (±0.002) with: {'learning_rate': 0.01, 'loss': 'square', 'n_estimators': 100}\n",
            "MSE (neg): -0.010 (±0.002) with: {'learning_rate': 0.01, 'loss': 'square', 'n_estimators': 200}\n",
            "MSE (neg): -0.010 (±0.002) with: {'learning_rate': 0.01, 'loss': 'exponential', 'n_estimators': 50}\n",
            "MSE (neg): -0.010 (±0.002) with: {'learning_rate': 0.01, 'loss': 'exponential', 'n_estimators': 100}\n",
            "MSE (neg): -0.010 (±0.002) with: {'learning_rate': 0.01, 'loss': 'exponential', 'n_estimators': 200}\n",
            "MSE (neg): -0.010 (±0.002) with: {'learning_rate': 0.1, 'loss': 'linear', 'n_estimators': 50}\n",
            "MSE (neg): -0.010 (±0.002) with: {'learning_rate': 0.1, 'loss': 'linear', 'n_estimators': 100}\n",
            "MSE (neg): -0.010 (±0.002) with: {'learning_rate': 0.1, 'loss': 'linear', 'n_estimators': 200}\n",
            "MSE (neg): -0.010 (±0.002) with: {'learning_rate': 0.1, 'loss': 'square', 'n_estimators': 50}\n",
            "MSE (neg): -0.010 (±0.002) with: {'learning_rate': 0.1, 'loss': 'square', 'n_estimators': 100}\n",
            "MSE (neg): -0.010 (±0.002) with: {'learning_rate': 0.1, 'loss': 'square', 'n_estimators': 200}\n",
            "MSE (neg): -0.010 (±0.002) with: {'learning_rate': 0.1, 'loss': 'exponential', 'n_estimators': 50}\n",
            "MSE (neg): -0.010 (±0.002) with: {'learning_rate': 0.1, 'loss': 'exponential', 'n_estimators': 100}\n",
            "MSE (neg): -0.010 (±0.002) with: {'learning_rate': 0.1, 'loss': 'exponential', 'n_estimators': 200}\n",
            "MSE (neg): -0.010 (±0.002) with: {'learning_rate': 0.5, 'loss': 'linear', 'n_estimators': 50}\n",
            "MSE (neg): -0.010 (±0.002) with: {'learning_rate': 0.5, 'loss': 'linear', 'n_estimators': 100}\n",
            "MSE (neg): -0.010 (±0.002) with: {'learning_rate': 0.5, 'loss': 'linear', 'n_estimators': 200}\n",
            "MSE (neg): -0.010 (±0.002) with: {'learning_rate': 0.5, 'loss': 'square', 'n_estimators': 50}\n",
            "MSE (neg): -0.010 (±0.002) with: {'learning_rate': 0.5, 'loss': 'square', 'n_estimators': 100}\n",
            "MSE (neg): -0.010 (±0.002) with: {'learning_rate': 0.5, 'loss': 'square', 'n_estimators': 200}\n",
            "MSE (neg): -0.010 (±0.002) with: {'learning_rate': 0.5, 'loss': 'exponential', 'n_estimators': 50}\n",
            "MSE (neg): -0.010 (±0.002) with: {'learning_rate': 0.5, 'loss': 'exponential', 'n_estimators': 100}\n",
            "MSE (neg): -0.010 (±0.002) with: {'learning_rate': 0.5, 'loss': 'exponential', 'n_estimators': 200}\n",
            "MSE (neg): -0.010 (±0.002) with: {'learning_rate': 1.0, 'loss': 'linear', 'n_estimators': 50}\n",
            "MSE (neg): -0.010 (±0.002) with: {'learning_rate': 1.0, 'loss': 'linear', 'n_estimators': 100}\n",
            "MSE (neg): -0.010 (±0.002) with: {'learning_rate': 1.0, 'loss': 'linear', 'n_estimators': 200}\n",
            "MSE (neg): -0.010 (±0.002) with: {'learning_rate': 1.0, 'loss': 'square', 'n_estimators': 50}\n",
            "MSE (neg): -0.010 (±0.002) with: {'learning_rate': 1.0, 'loss': 'square', 'n_estimators': 100}\n",
            "MSE (neg): -0.010 (±0.002) with: {'learning_rate': 1.0, 'loss': 'square', 'n_estimators': 200}\n",
            "MSE (neg): -0.010 (±0.002) with: {'learning_rate': 1.0, 'loss': 'exponential', 'n_estimators': 50}\n",
            "MSE (neg): -0.010 (±0.002) with: {'learning_rate': 1.0, 'loss': 'exponential', 'n_estimators': 100}\n",
            "MSE (neg): -0.010 (±0.002) with: {'learning_rate': 1.0, 'loss': 'exponential', 'n_estimators': 200}\n"
          ]
        }
      ]
    }
  ],
  "metadata": {
    "colab": {
      "provenance": []
    },
    "kernelspec": {
      "display_name": "Python 3",
      "name": "python3"
    },
    "language_info": {
      "name": "python"
    }
  },
  "nbformat": 4,
  "nbformat_minor": 0
}